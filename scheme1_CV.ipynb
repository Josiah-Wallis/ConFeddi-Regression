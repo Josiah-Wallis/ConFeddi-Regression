{
 "cells": [
  {
   "cell_type": "code",
   "execution_count": 1,
   "metadata": {},
   "outputs": [],
   "source": [
    "import pandas as pd\n",
    "import numpy as np\n",
    "import math\n",
    "import os\n",
    "from test_class import Test\n",
    "os.environ['PYTHONHASHSEED'] = str(50)\n",
    "os.environ['CUDA_VISIBLE_DEVICES'] = '-1'\n",
    "\n",
    "import matplotlib.pyplot as plt"
   ]
  },
  {
   "cell_type": "code",
   "execution_count": 2,
   "metadata": {},
   "outputs": [],
   "source": [
    "rounds = 50\n",
    "dataset = pd.read_csv('RTT_data.csv')\n",
    "data_args = {\n",
    "    'data seed': 11,\n",
    "    'distance clients': [0, 2, 3, 6],\n",
    "    'distance augments': [0.5, 0.5, 0.5, 0.5],\n",
    "    'tolerance': 5,\n",
    "    'exclude dtypes': 'object',\n",
    "    'drop labels': ['GroundTruthRange[m]'],\n",
    "    'target labels': ['GroundTruthRange[m]'],\n",
    "    'test size 1': 0.2,\n",
    "    'test size 2': 0.25,\n",
    "    'normalize': False,\n",
    "    'client num': 10\n",
    "}\n",
    "\n",
    "Mt = (np.ones(rounds) * 5).astype('int32')\n",
    "model_seed = 50\n",
    "test = Test(dataset, data_args, Mt, model_seed)"
   ]
  },
  {
   "cell_type": "code",
   "execution_count": 3,
   "metadata": {},
   "outputs": [],
   "source": [
    "test.split(scheme = 1)"
   ]
  },
  {
   "cell_type": "code",
   "execution_count": 4,
   "metadata": {},
   "outputs": [
    {
     "name": "stdout",
     "output_type": "stream",
     "text": [
      "CV Pair 1\n",
      "FedAvg\n",
      "Round 5\n",
      "Round 10\n",
      "Round 15\n",
      "Round 20\n",
      "Round 25\n",
      "Round 30\n",
      "Round 35\n",
      "Round 40\n",
      "Round 45\n",
      "Round 50\n",
      "Time: 122.00214251158468\n",
      "\n",
      "ConFeddi\n",
      "Round 5\n",
      "Round 10\n",
      "Round 15\n",
      "Round 20\n",
      "Round 25\n",
      "Round 30\n",
      "Round 35\n",
      "Round 40\n",
      "Round 45\n",
      "Round 50\n",
      "Time: 171.02825196264894\n",
      "\n",
      "FedAvg Avg Test Error: 1.8260803603996532\n",
      "ConFeddi Avg Test Error: 2.449446069938165\n",
      "FedAvg MSE: 7.342414855957031\n",
      "ConFeddi MSE: 11.44210147857666\n",
      "\n",
      "CV Pair 2\n",
      "FedAvg\n",
      "Round 5\n",
      "Round 10\n",
      "Round 15\n",
      "Round 20\n",
      "Round 25\n",
      "Round 30\n",
      "Round 35\n",
      "Round 40\n",
      "Round 45\n",
      "Round 50\n",
      "Time: 120.39252341158135\n",
      "\n",
      "ConFeddi\n",
      "Round 5\n",
      "Round 10\n",
      "Round 15\n",
      "Round 20\n",
      "Round 25\n",
      "Round 30\n",
      "Round 35\n",
      "Round 40\n",
      "Round 45\n",
      "Round 50\n",
      "Time: 167.33674856264406\n",
      "\n",
      "FedAvg Avg Test Error: 2.166991070225766\n",
      "ConFeddi Avg Test Error: 0.6709955104120411\n",
      "FedAvg MSE: 11.49260425567627\n",
      "ConFeddi MSE: 1.7635318040847778\n",
      "\n",
      "CV Pair 3\n",
      "FedAvg\n",
      "Round 5\n",
      "Round 10\n",
      "Round 15\n",
      "Round 20\n",
      "Round 25\n",
      "Round 30\n",
      "Round 35\n",
      "Round 40\n",
      "Round 45\n",
      "Round 50\n",
      "Time: 119.90963431158889\n",
      "\n",
      "ConFeddi\n",
      "Round 5\n",
      "Round 10\n",
      "Round 15\n",
      "Round 20\n",
      "Round 25\n",
      "Round 30\n",
      "Round 35\n",
      "Round 40\n",
      "Round 45\n",
      "Round 50\n",
      "Time: 166.9045971626474\n",
      "\n",
      "FedAvg Avg Test Error: 2.119966308540023\n",
      "ConFeddi Avg Test Error: 2.069288471620526\n",
      "FedAvg MSE: 10.160592079162598\n",
      "ConFeddi MSE: 8.627217292785645\n",
      "\n",
      "CV Pair 4\n",
      "FedAvg\n",
      "Round 5\n",
      "Round 10\n",
      "Round 15\n",
      "Round 20\n",
      "Round 25\n",
      "Round 30\n",
      "Round 35\n",
      "Round 40\n",
      "Round 45\n",
      "Round 50\n",
      "Time: 121.47110011158657\n",
      "\n",
      "ConFeddi\n",
      "Round 5\n",
      "Round 10\n",
      "Round 15\n",
      "Round 20\n",
      "Round 25\n",
      "Round 30\n",
      "Round 35\n",
      "Round 40\n",
      "Round 45\n",
      "Round 50\n",
      "Time: 170.49256166264968\n",
      "\n",
      "FedAvg Avg Test Error: 1.4114680595435005\n",
      "ConFeddi Avg Test Error: 2.2320211096519254\n",
      "FedAvg MSE: 4.655184745788574\n",
      "ConFeddi MSE: 9.043553352355957\n",
      "\n",
      "CV Pair 5\n",
      "FedAvg\n",
      "Round 5\n",
      "Round 10\n",
      "Round 15\n",
      "Round 20\n",
      "Round 25\n",
      "Round 30\n",
      "Round 35\n",
      "Round 40\n",
      "Round 45\n",
      "Round 50\n",
      "Time: 124.2027631115925\n",
      "\n",
      "ConFeddi\n",
      "Round 5\n",
      "Round 10\n",
      "Round 15\n",
      "Round 20\n",
      "Round 25\n",
      "Round 30\n",
      "Round 35\n",
      "Round 40\n",
      "Round 45\n",
      "Round 50\n",
      "Time: 180.6236035626498\n",
      "\n",
      "FedAvg Avg Test Error: 1.9543219829640024\n",
      "ConFeddi Avg Test Error: 1.5500660289033599\n",
      "FedAvg MSE: 8.950308799743652\n",
      "ConFeddi MSE: 5.958306789398193\n",
      "\n",
      "CV Pair 6\n",
      "FedAvg\n",
      "Round 5\n",
      "Round 10\n",
      "Round 15\n",
      "Round 20\n",
      "Round 25\n",
      "Round 30\n",
      "Round 35\n",
      "Round 40\n",
      "Round 45\n",
      "Round 50\n",
      "Time: 127.84940501159144\n",
      "\n",
      "ConFeddi\n",
      "Round 5\n",
      "Round 10\n",
      "Round 15\n",
      "Round 20\n",
      "Round 25\n",
      "Round 30\n",
      "Round 35\n",
      "Round 40\n",
      "Round 45\n",
      "Round 50\n",
      "Time: 173.78144636264187\n",
      "\n",
      "FedAvg Avg Test Error: 1.5404672287668821\n",
      "ConFeddi Avg Test Error: 1.2296791713807305\n",
      "FedAvg MSE: 5.445570468902588\n",
      "ConFeddi MSE: 3.604172945022583\n",
      "\n",
      "CV Pair 7\n",
      "FedAvg\n",
      "Round 5\n",
      "Round 10\n",
      "Round 15\n",
      "Round 20\n",
      "Round 25\n",
      "Round 30\n",
      "Round 35\n"
     ]
    },
    {
     "name": "stderr",
     "output_type": "stream",
     "text": [
      "Exception ignored in: <function ScopedTFFunction.__del__ at 0x000002072E2AC670>\n",
      "Traceback (most recent call last):\n",
      "  File \"c:\\Users\\pokot\\AppData\\Local\\Programs\\Python\\Python310\\lib\\site-packages\\tensorflow\\python\\framework\\c_api_util.py\", line 122, in __del__\n",
      "    self.deleter(func)\n",
      "KeyboardInterrupt: \n"
     ]
    },
    {
     "name": "stdout",
     "output_type": "stream",
     "text": [
      "Round 40\n"
     ]
    }
   ],
   "source": [
    "# perform cross validation over different seeds\n",
    "seeds = [1, 2, 3, 4, 5]\n",
    "fedavg_scores = []\n",
    "conf_scores = []\n",
    "for s in seeds:\n",
    "    test.SetDataSeed(s)\n",
    "    cv_data = test.cross_validation(7, 1, 10, 100, context = [0])\n",
    "    s1 = cv_data['s1 score']\n",
    "    fedavg_scores.append(s1[0])\n",
    "    conf_scores.append(s1[1])"
   ]
  },
  {
   "cell_type": "code",
   "execution_count": null,
   "metadata": {},
   "outputs": [
    {
     "name": "stdout",
     "output_type": "stream",
     "text": [
      "FedAvg Average S1 Score: 1.531\n"
     ]
    }
   ],
   "source": [
    "print(f'FedAvg Average S1 Score: {np.array(fedavg_scores).mean():.3f}')"
   ]
  },
  {
   "cell_type": "markdown",
   "metadata": {},
   "source": [
    "^^ was 1.834 before"
   ]
  },
  {
   "cell_type": "code",
   "execution_count": null,
   "metadata": {},
   "outputs": [
    {
     "name": "stdout",
     "output_type": "stream",
     "text": [
      "ConFeddi Average S1 Score: 1.726\n"
     ]
    }
   ],
   "source": [
    "print(f'ConFeddi Average S1 Score: {np.array(conf_scores).mean():.3f}')"
   ]
  },
  {
   "cell_type": "code",
   "execution_count": null,
   "metadata": {},
   "outputs": [
    {
     "name": "stdout",
     "output_type": "stream",
     "text": [
      "FedAvg S1 Score Variance: 0.036\n"
     ]
    }
   ],
   "source": [
    "print(f'FedAvg S1 Score Variance: {np.array(fedavg_scores).var():.3f}')"
   ]
  },
  {
   "cell_type": "code",
   "execution_count": null,
   "metadata": {},
   "outputs": [
    {
     "name": "stdout",
     "output_type": "stream",
     "text": [
      "ConFeddi S1 Score Variance: 0.192\n"
     ]
    }
   ],
   "source": [
    "print(f'ConFeddi S1 Score Variance: {np.array(conf_scores).var():.3f}')"
   ]
  },
  {
   "cell_type": "code",
   "execution_count": null,
   "metadata": {},
   "outputs": [],
   "source": []
  }
 ],
 "metadata": {
  "kernelspec": {
   "display_name": "Python 3.10.6 64-bit",
   "language": "python",
   "name": "python3"
  },
  "language_info": {
   "codemirror_mode": {
    "name": "ipython",
    "version": 3
   },
   "file_extension": ".py",
   "mimetype": "text/x-python",
   "name": "python",
   "nbconvert_exporter": "python",
   "pygments_lexer": "ipython3",
   "version": "3.10.6"
  },
  "orig_nbformat": 4,
  "vscode": {
   "interpreter": {
    "hash": "ba14182f2addf8401c8bd3cfab2a612ede3e43383081db6c97cf7288d8247d9f"
   }
  }
 },
 "nbformat": 4,
 "nbformat_minor": 2
}
