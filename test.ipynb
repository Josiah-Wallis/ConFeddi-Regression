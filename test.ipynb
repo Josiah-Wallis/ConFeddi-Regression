{
 "cells": [
  {
   "cell_type": "code",
   "execution_count": 1,
   "metadata": {},
   "outputs": [],
   "source": [
    "import pandas as pd\n",
    "import matplotlib.pyplot as plt"
   ]
  },
  {
   "cell_type": "code",
   "execution_count": 4,
   "metadata": {},
   "outputs": [],
   "source": [
    "data = pd.read_csv('RTT_data.csv').select_dtypes(exclude = 'object')"
   ]
  },
  {
   "cell_type": "code",
   "execution_count": 5,
   "metadata": {},
   "outputs": [
    {
     "data": {
      "text/plain": [
       "Index(['%Timestamp[s]', 'GroundTruthPositionX[m]', 'GroundTruthPositionY[m]',\n",
       "       'GroundTruthPositionZ[m]', 'ML_range_estimate[m]', 'AP_positionX[m]',\n",
       "       'AP_positionY[m]', 'AP_positionZ[m]', 'AP_index', 'GroundTruthRange[m]',\n",
       "       'ToD_factor[m]'],\n",
       "      dtype='object')"
      ]
     },
     "execution_count": 5,
     "metadata": {},
     "output_type": "execute_result"
    }
   ],
   "source": [
    "data.columns"
   ]
  },
  {
   "cell_type": "code",
   "execution_count": 12,
   "metadata": {},
   "outputs": [
    {
     "data": {
      "text/html": [
       "<div>\n",
       "<style scoped>\n",
       "    .dataframe tbody tr th:only-of-type {\n",
       "        vertical-align: middle;\n",
       "    }\n",
       "\n",
       "    .dataframe tbody tr th {\n",
       "        vertical-align: top;\n",
       "    }\n",
       "\n",
       "    .dataframe thead th {\n",
       "        text-align: right;\n",
       "    }\n",
       "</style>\n",
       "<table border=\"1\" class=\"dataframe\">\n",
       "  <thead>\n",
       "    <tr style=\"text-align: right;\">\n",
       "      <th></th>\n",
       "      <th>GroundTruthPositionX[m]</th>\n",
       "      <th>GroundTruthPositionY[m]</th>\n",
       "    </tr>\n",
       "  </thead>\n",
       "  <tbody>\n",
       "    <tr>\n",
       "      <th>1232</th>\n",
       "      <td>-19.9450</td>\n",
       "      <td>12.417</td>\n",
       "    </tr>\n",
       "    <tr>\n",
       "      <th>1233</th>\n",
       "      <td>-19.9080</td>\n",
       "      <td>12.426</td>\n",
       "    </tr>\n",
       "    <tr>\n",
       "      <th>1234</th>\n",
       "      <td>-19.9080</td>\n",
       "      <td>12.426</td>\n",
       "    </tr>\n",
       "    <tr>\n",
       "      <th>1235</th>\n",
       "      <td>-19.5440</td>\n",
       "      <td>12.526</td>\n",
       "    </tr>\n",
       "    <tr>\n",
       "      <th>1236</th>\n",
       "      <td>-19.5150</td>\n",
       "      <td>12.528</td>\n",
       "    </tr>\n",
       "    <tr>\n",
       "      <th>...</th>\n",
       "      <td>...</td>\n",
       "      <td>...</td>\n",
       "    </tr>\n",
       "    <tr>\n",
       "      <th>29576</th>\n",
       "      <td>-2.9512</td>\n",
       "      <td>13.733</td>\n",
       "    </tr>\n",
       "    <tr>\n",
       "      <th>29577</th>\n",
       "      <td>-2.9512</td>\n",
       "      <td>13.733</td>\n",
       "    </tr>\n",
       "    <tr>\n",
       "      <th>29578</th>\n",
       "      <td>-2.9512</td>\n",
       "      <td>13.733</td>\n",
       "    </tr>\n",
       "    <tr>\n",
       "      <th>29579</th>\n",
       "      <td>-2.9512</td>\n",
       "      <td>13.733</td>\n",
       "    </tr>\n",
       "    <tr>\n",
       "      <th>29580</th>\n",
       "      <td>-2.9512</td>\n",
       "      <td>13.733</td>\n",
       "    </tr>\n",
       "  </tbody>\n",
       "</table>\n",
       "<p>20032 rows × 2 columns</p>\n",
       "</div>"
      ],
      "text/plain": [
       "       GroundTruthPositionX[m]  GroundTruthPositionY[m]\n",
       "1232                  -19.9450                   12.417\n",
       "1233                  -19.9080                   12.426\n",
       "1234                  -19.9080                   12.426\n",
       "1235                  -19.5440                   12.526\n",
       "1236                  -19.5150                   12.528\n",
       "...                        ...                      ...\n",
       "29576                  -2.9512                   13.733\n",
       "29577                  -2.9512                   13.733\n",
       "29578                  -2.9512                   13.733\n",
       "29579                  -2.9512                   13.733\n",
       "29580                  -2.9512                   13.733\n",
       "\n",
       "[20032 rows x 2 columns]"
      ]
     },
     "execution_count": 12,
     "metadata": {},
     "output_type": "execute_result"
    }
   ],
   "source": [
    "data[['GroundTruthPositionX[m]', 'GroundTruthPositionY[m]']][data['GroundTruthPositionX[m]'] > -20]"
   ]
  },
  {
   "cell_type": "code",
   "execution_count": null,
   "metadata": {},
   "outputs": [],
   "source": []
  }
 ],
 "metadata": {
  "kernelspec": {
   "display_name": "Python 3.10.6 64-bit",
   "language": "python",
   "name": "python3"
  },
  "language_info": {
   "codemirror_mode": {
    "name": "ipython",
    "version": 3
   },
   "file_extension": ".py",
   "mimetype": "text/x-python",
   "name": "python",
   "nbconvert_exporter": "python",
   "pygments_lexer": "ipython3",
   "version": "3.10.6"
  },
  "orig_nbformat": 4,
  "vscode": {
   "interpreter": {
    "hash": "ba14182f2addf8401c8bd3cfab2a612ede3e43383081db6c97cf7288d8247d9f"
   }
  }
 },
 "nbformat": 4,
 "nbformat_minor": 2
}
