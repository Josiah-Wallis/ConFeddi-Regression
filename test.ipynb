{
 "cells": [
  {
   "cell_type": "code",
   "execution_count": 27,
   "metadata": {},
   "outputs": [],
   "source": [
    "import numpy as np\n",
    "import pandas as pd\n",
    "import matplotlib.pyplot as plt\n",
    "import os\n",
    "os.environ['PYTHONHASHSEED'] = str(50)\n"
   ]
  },
  {
   "cell_type": "code",
   "execution_count": 29,
   "metadata": {},
   "outputs": [
    {
     "data": {
      "text/plain": [
       "array([0.09013484, 0.00973762, 0.23160926, 0.36246696, 0.2101018 ,\n",
       "       0.24271355, 0.00639041, 0.2436858 , 0.47090333, 0.42539754])"
      ]
     },
     "execution_count": 29,
     "metadata": {},
     "output_type": "execute_result"
    }
   ],
   "source": [
    "np.random.seed(11)\n",
    "np.random.rand(10) / 2"
   ]
  },
  {
   "cell_type": "code",
   "execution_count": 2,
   "metadata": {},
   "outputs": [],
   "source": [
    "import math\n",
    "\n",
    "def bin_append(set_ree, count, pset_size):\n",
    "    intersect_val = 1\n",
    "    subset = []\n",
    "\n",
    "    while(intersect_val < pset_size):\n",
    "        if count & intersect_val:\n",
    "            index = int(math.log(intersect_val, 2))\n",
    "            subset.append(set_ree[index])\n",
    "        \n",
    "        intersect_val *= 2\n",
    "\n",
    "    return subset\n",
    "\n",
    "def gen_power_set(set_ree):\n",
    "    power = []\n",
    "    count = 0\n",
    "\n",
    "    pset_size = int(2 ** len(set_ree))\n",
    "\n",
    "    for i in range(pset_size):\n",
    "        power.append(bin_append(set_ree, count, pset_size))\n",
    "        count = count + 1\n",
    "\n",
    "    power.sort(key = lambda x : len(x))\n",
    "    return power"
   ]
  },
  {
   "cell_type": "code",
   "execution_count": 3,
   "metadata": {},
   "outputs": [
    {
     "data": {
      "text/plain": [
       "[[], [0], [1], [2], [0, 1], [0, 2], [1, 2], [0, 1, 2]]"
      ]
     },
     "execution_count": 3,
     "metadata": {},
     "output_type": "execute_result"
    }
   ],
   "source": [
    "gen_power_set([0, 1, 2])"
   ]
  },
  {
   "cell_type": "code",
   "execution_count": null,
   "metadata": {},
   "outputs": [],
   "source": []
  }
 ],
 "metadata": {
  "kernelspec": {
   "display_name": "Python 3.10.6 64-bit",
   "language": "python",
   "name": "python3"
  },
  "language_info": {
   "codemirror_mode": {
    "name": "ipython",
    "version": 3
   },
   "file_extension": ".py",
   "mimetype": "text/x-python",
   "name": "python",
   "nbconvert_exporter": "python",
   "pygments_lexer": "ipython3",
   "version": "3.10.6"
  },
  "orig_nbformat": 4,
  "vscode": {
   "interpreter": {
    "hash": "ba14182f2addf8401c8bd3cfab2a612ede3e43383081db6c97cf7288d8247d9f"
   }
  }
 },
 "nbformat": 4,
 "nbformat_minor": 2
}
