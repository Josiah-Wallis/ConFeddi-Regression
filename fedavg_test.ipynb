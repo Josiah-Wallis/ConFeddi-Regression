{
 "cells": [
  {
   "cell_type": "markdown",
   "metadata": {},
   "source": [
    "# Relevant Imports"
   ]
  },
  {
   "cell_type": "code",
   "execution_count": 1,
   "metadata": {},
   "outputs": [],
   "source": [
    "import math\n",
    "import os\n",
    "import numpy as np\n",
    "import pandas as pd\n",
    "import tensorflow as tf\n",
    "import matplotlib.pyplot as plt\n",
    "from sklearn.model_selection import train_test_split\n",
    "from sklearn.preprocessing import StandardScaler\n",
    "from confeddi import FederatedSystem\n",
    "from distribute_data import generate_data\n",
    "os.environ['CUDA_VISIBLE_DEVICES'] = '-1'"
   ]
  },
  {
   "cell_type": "markdown",
   "metadata": {},
   "source": [
    "# Preprocess Data"
   ]
  },
  {
   "cell_type": "markdown",
   "metadata": {},
   "source": [
    "### Load RTT Data"
   ]
  },
  {
   "cell_type": "code",
   "execution_count": 2,
   "metadata": {},
   "outputs": [
    {
     "name": "stdout",
     "output_type": "stream",
     "text": [
      "Number of samples: 29581\n",
      "Features per sample: 10\n",
      "\n",
      "Columns:\n",
      "%Timestamp[s], GroundTruthPositionX[m], GroundTruthPositionY[m], GroundTruthPositionZ[m], ML_range_estimate[m], AP_positionX[m], AP_positionY[m], AP_positionZ[m], AP_index, ToD_factor[m]"
     ]
    }
   ],
   "source": [
    "data = pd.read_csv('RTT_data.csv')\n",
    "\n",
    "# Getting rid of complex-valued columns\n",
    "data = data.select_dtypes(exclude = ['object'])\n",
    "\n",
    "# Quick look at data\n",
    "print(f'Number of samples: {data.shape[0]}')\n",
    "print(f'Features per sample: {data.shape[1] - 1}\\n')\n",
    "print(f'Columns:')\n",
    "for i in data.columns[:-1]:\n",
    "    if i == 'GroundTruthRange[m]':\n",
    "        continue\n",
    "    print(f'{i}, ', end = '')\n",
    "print(data.columns[-1], end = '')\n",
    "\n",
    "\n",
    "# Separate data and labels\n",
    "X = data.drop(columns = ['GroundTruthRange[m]']).to_numpy()\n",
    "y = data['GroundTruthRange[m]'].to_numpy()"
   ]
  },
  {
   "cell_type": "markdown",
   "metadata": {},
   "source": [
    "### Distribute data among clients"
   ]
  },
  {
   "cell_type": "code",
   "execution_count": 3,
   "metadata": {},
   "outputs": [],
   "source": [
    "seed = 11\n",
    "\n",
    "X_train, X_val, y_train, y_val = train_test_split(X, y, test_size = 0.25, random_state = seed)\n",
    "\n",
    "data = generate_data(X_train, y_train, seed = seed)\n",
    "scaler = StandardScaler()\n",
    "X_val = scaler.fit_transform(X_val)\n",
    "X = scaler.fit_transform(X)\n",
    "\n",
    "fed = FederatedSystem(data['Client Data'], data['Client Labels'], data['Client Distances'])\n",
    "fed.SetValData({'Val Data': X_val, 'Val Labels': y_val})\n",
    "fed.SetTestData({'Data': X, 'Labels': y})"
   ]
  },
  {
   "cell_type": "code",
   "execution_count": 4,
   "metadata": {},
   "outputs": [
    {
     "name": "stdout",
     "output_type": "stream",
     "text": [
      "Round 5\n",
      "Round 10\n",
      "Round 15\n",
      "Round 20\n",
      "Round 25\n",
      "Round 30\n",
      "Round 35\n",
      "Round 40\n",
      "Round 45\n",
      "Round 50\n"
     ]
    }
   ],
   "source": [
    "tf.keras.utils.set_random_seed(50)\n",
    "tf.config.experimental.enable_op_determinism()\n",
    "w, b = fed.FedAvg(rounds = 50)"
   ]
  },
  {
   "cell_type": "code",
   "execution_count": 5,
   "metadata": {},
   "outputs": [],
   "source": [
    "fedavg_test_mse = fed.test_loss()\n",
    "fedavg_val_mse = fed.val_loss()\n",
    "fedavg_log = fed.GetLog()"
   ]
  },
  {
   "cell_type": "code",
   "execution_count": 6,
   "metadata": {},
   "outputs": [
    {
     "data": {
      "text/plain": [
       "<matplotlib.legend.Legend at 0x29a01094040>"
      ]
     },
     "execution_count": 6,
     "metadata": {},
     "output_type": "execute_result"
    },
    {
     "data": {
      "image/png": "[encoded data removed]",
      "text/plain": [
       "<Figure size 432x288 with 1 Axes>"
      ]
     },
     "metadata": {
      "needs_background": "light"
     },
     "output_type": "display_data"
    }
   ],
   "source": [
    "plt.plot(fedavg_log, fedavg_test_mse, color = 'blue', label = 'mse', marker = 'o')\n",
    "plt.title(f'FedAvg Test Loss')\n",
    "plt.ylabel('Error')\n",
    "plt.xlabel('Time (s)')\n",
    "plt.ylim(0, 3)\n",
    "plt.legend()"
   ]
  },
  {
   "cell_type": "code",
   "execution_count": 7,
   "metadata": {},
   "outputs": [],
   "source": [
    "np.save('history/important baselines/fedavg_test_mse.npy', fedavg_test_mse)\n",
    "np.save('history/important baselines/fedavg_val_mse.npy', fedavg_val_mse)\n",
    "np.save('history/important baselines/fedavg_log.npy', fedavg_log)"
   ]
  },
  {
   "cell_type": "code",
   "execution_count": 7,
   "metadata": {},
   "outputs": [
    {
     "data": {
      "text/plain": [
       "(0.3382655084133148, 0.4143133759498596)"
      ]
     },
     "execution_count": 7,
     "metadata": {},
     "output_type": "execute_result"
    }
   ],
   "source": [
    "mse_losses[-1], mae_losses[-1]"
   ]
  },
  {
   "cell_type": "code",
   "execution_count": 9,
   "metadata": {},
   "outputs": [],
   "source": [
    "model = fed.generate_model(w, b)"
   ]
  },
  {
   "cell_type": "code",
   "execution_count": 10,
   "metadata": {},
   "outputs": [
    {
     "name": "stdout",
     "output_type": "stream",
     "text": [
      "925/925 [==============================] - 1s 939us/step\n"
     ]
    },
    {
     "data": {
      "text/plain": [
       "array([[30.590837],\n",
       "       [22.610846],\n",
       "       [26.429502],\n",
       "       ...,\n",
       "       [15.077161],\n",
       "       [ 7.477501],\n",
       "       [ 8.225125]], dtype=float32)"
      ]
     },
     "execution_count": 10,
     "metadata": {},
     "output_type": "execute_result"
    }
   ],
   "source": [
    "model.predict(X)"
   ]
  },
  {
   "cell_type": "code",
   "execution_count": 15,
   "metadata": {},
   "outputs": [
    {
     "data": {
      "text/plain": [
       "31.047"
      ]
     },
     "execution_count": 15,
     "metadata": {},
     "output_type": "execute_result"
    }
   ],
   "source": [
    "y[0]"
   ]
  },
  {
   "cell_type": "code",
   "execution_count": 16,
   "metadata": {},
   "outputs": [
    {
     "data": {
      "text/plain": [
       "23.051"
      ]
     },
     "execution_count": 16,
     "metadata": {},
     "output_type": "execute_result"
    }
   ],
   "source": [
    "y[1]"
   ]
  },
  {
   "cell_type": "code",
   "execution_count": 17,
   "metadata": {},
   "outputs": [
    {
     "data": {
      "text/plain": [
       "26.095"
      ]
     },
     "execution_count": 17,
     "metadata": {},
     "output_type": "execute_result"
    }
   ],
   "source": [
    "y[2]"
   ]
  },
  {
   "cell_type": "code",
   "execution_count": 18,
   "metadata": {},
   "outputs": [
    {
     "data": {
      "text/plain": [
       "6.9716"
      ]
     },
     "execution_count": 18,
     "metadata": {},
     "output_type": "execute_result"
    }
   ],
   "source": [
    "y[-1]"
   ]
  },
  {
   "cell_type": "code",
   "execution_count": 19,
   "metadata": {},
   "outputs": [
    {
     "data": {
      "text/plain": [
       "7.2991"
      ]
     },
     "execution_count": 19,
     "metadata": {},
     "output_type": "execute_result"
    }
   ],
   "source": [
    "y[-2]"
   ]
  },
  {
   "cell_type": "code",
   "execution_count": 20,
   "metadata": {},
   "outputs": [
    {
     "data": {
      "text/plain": [
       "13.833"
      ]
     },
     "execution_count": 20,
     "metadata": {},
     "output_type": "execute_result"
    }
   ],
   "source": [
    "y[-3]"
   ]
  },
  {
   "cell_type": "code",
   "execution_count": null,
   "metadata": {},
   "outputs": [],
   "source": []
  }
 ],
 "metadata": {
  "kernelspec": {
   "display_name": "Python 3.10.4 64-bit",
   "language": "python",
   "name": "python3"
  },
  "language_info": {
   "codemirror_mode": {
    "name": "ipython",
    "version": 3
   },
   "file_extension": ".py",
   "mimetype": "text/x-python",
   "name": "python",
   "nbconvert_exporter": "python",
   "pygments_lexer": "ipython3",
   "version": "3.10.4"
  },
  "orig_nbformat": 4,
  "vscode": {
   "interpreter": {
    "hash": "6505aaf4080cc659ee1f55a9869a4b092f87f248477d8d111ec0e0efe1a23586"
   }
  }
 },
 "nbformat": 4,
 "nbformat_minor": 2
}
