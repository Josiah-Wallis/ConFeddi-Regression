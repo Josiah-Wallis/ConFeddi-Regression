{
 "cells": [
  {
   "cell_type": "markdown",
   "metadata": {},
   "source": [
    "# Relevant Imports"
   ]
  },
  {
   "cell_type": "code",
   "execution_count": 9,
   "metadata": {},
   "outputs": [],
   "source": [
    "import math\n",
    "import os\n",
    "import numpy as np\n",
    "import pandas as pd\n",
    "import tensorflow as tf\n",
    "import matplotlib.pyplot as plt\n",
    "from sklearn.model_selection import train_test_split\n",
    "from sklearn.preprocessing import StandardScaler\n",
    "from confeddi import FederatedSystem\n",
    "from distribute_data import generate_data\n",
    "os.environ['CUDA_VISIBLE_DEVICES'] = '-1'"
   ]
  },
  {
   "cell_type": "markdown",
   "metadata": {},
   "source": [
    "# Preprocess Data"
   ]
  },
  {
   "cell_type": "markdown",
   "metadata": {},
   "source": [
    "### Load RTT Data"
   ]
  },
  {
   "cell_type": "code",
   "execution_count": 10,
   "metadata": {},
   "outputs": [
    {
     "name": "stdout",
     "output_type": "stream",
     "text": [
      "Number of samples: 29581\n",
      "Features per sample: 10\n",
      "\n",
      "Columns:\n",
      "%Timestamp[s], GroundTruthPositionX[m], GroundTruthPositionY[m], GroundTruthPositionZ[m], ML_range_estimate[m], AP_positionX[m], AP_positionY[m], AP_positionZ[m], AP_index, ToD_factor[m]"
     ]
    }
   ],
   "source": [
    "data = pd.read_csv('RTT_data.csv')\n",
    "\n",
    "# Getting rid of complex-valued columns\n",
    "data = data.select_dtypes(exclude = ['object'])\n",
    "\n",
    "# Quick look at data\n",
    "print(f'Number of samples: {data.shape[0]}')\n",
    "print(f'Features per sample: {data.shape[1] - 1}\\n')\n",
    "print(f'Columns:')\n",
    "for i in data.columns[:-1]:\n",
    "    if i == 'GroundTruthRange[m]':\n",
    "        continue\n",
    "    print(f'{i}, ', end = '')\n",
    "print(data.columns[-1], end = '')\n",
    "\n",
    "\n",
    "# Separate data and labels\n",
    "X = data.drop(columns = ['GroundTruthRange[m]']).to_numpy()\n",
    "y = data['GroundTruthRange[m]'].to_numpy()"
   ]
  },
  {
   "cell_type": "markdown",
   "metadata": {},
   "source": [
    "### Distribute data among clients"
   ]
  },
  {
   "cell_type": "code",
   "execution_count": 11,
   "metadata": {},
   "outputs": [],
   "source": [
    "seed = 11\n",
    "\n",
    "X_train, X_val, y_train, y_val = train_test_split(X, y, test_size = 0.25, random_state = seed)\n",
    "\n",
    "data = generate_data(X_train, y_train, seed = seed)\n",
    "scaler = StandardScaler()\n",
    "X_val = scaler.fit_transform(X_val)\n",
    "X = scaler.fit_transform(X)\n",
    "\n",
    "fed = FederatedSystem(data['Client Data'], data['Client Labels'], data['Client Distances'])\n",
    "fed.SetValData({'Val Data': X_val, 'Val Labels': y_val})\n",
    "fed.SetTestData({'Data': X, 'Labels': y})"
   ]
  },
  {
   "cell_type": "code",
   "execution_count": 12,
   "metadata": {},
   "outputs": [
    {
     "name": "stdout",
     "output_type": "stream",
     "text": [
      "range(0, 10)\n",
      "[7 8 0 2 3 5 6 1 9 4]\n",
      "[8 2 7 6]\n",
      "[8 7 6 2]\n",
      "Round 5\n",
      "[7 8]\n",
      "[7 8 6 2 5 0 3 1 9 4]\n",
      "[7 6 2 8 9 1]\n",
      "[6 2 7 9 1 5 4 8 3]\n",
      "[6 2 9 5 4 1 7 8]\n",
      "Round 10\n",
      "[6]\n",
      "[6 2 4 9 1 7]\n",
      "[6 4 5 7]\n",
      "[4 6 7 2 9 1]\n",
      "[1 2 4 6 7 9 8 5]\n",
      "Round 15\n",
      "[1 2 4 9]\n",
      "[1 2 4 9 6 7 5 8]\n",
      "[1 4 9 5 2 6 7 0 3]\n",
      "[1 9 2 4]\n",
      "[1 6 5 4]\n",
      "Round 20\n",
      "[1 5 4 9 2 6 7 8 3 0]\n",
      "[5 4 2 1 9]\n",
      "[1 2 9 4]\n",
      "[4 2 1 9]\n",
      "[2 4 1 9 6 5 7 3 0 8]\n",
      "Round 25\n",
      "[5 2 4 1]\n",
      "[1 4 2 9 6 5 3 0 7 8]\n",
      "[5]\n",
      "[4 1 2 9 5 6 3 0 7]\n",
      "[2 5 4 1]\n",
      "Round 30\n",
      "[1 4 2 5 0]\n",
      "[1 5 4 2 3 0 9 8]\n",
      "[5 2 1 4 9 0 3 8 7 6]\n",
      "[2 1 4 9 5]\n",
      "[1 2 9 4 5 6 7 8 0 3]\n",
      "Round 35\n",
      "[5 9 2 4 1 6 3 0]\n",
      "[5 1 2 9 4 6 7 0]\n",
      "[5 2]\n",
      "[5 2 9]\n",
      "[5 1 2]\n",
      "Round 40\n",
      "[5 1]\n",
      "[5 1 2 4 6 9 7]\n",
      "[5 1 2 4 9 0 3 8]\n",
      "[5 9 1 4 2]\n",
      "[5 9 1 4 2 3 0]\n",
      "Round 45\n",
      "[5]\n",
      "[5 4 1 9 2 3 0 8 6 7]\n",
      "[5 2 4 1 9 3 0]\n",
      "[5 9 1 4 2 3]\n",
      "[5 1 9 4]\n",
      "Round 50\n",
      "[5 1 9]\n"
     ]
    }
   ],
   "source": [
    "tf.keras.utils.set_random_seed(50)\n",
    "tf.config.experimental.enable_op_determinism()\n",
    "# 4 before\n",
    "Mt = (np.ones(50) * 5).astype('int32')\n",
    "fed.SetContextElements([2, 3])\n",
    "w, b = fed.ConFeddi(0.1, 0.01, rounds = 50, Mt = Mt)"
   ]
  },
  {
   "cell_type": "code",
   "execution_count": 13,
   "metadata": {},
   "outputs": [],
   "source": [
    "conf_val_mse = fed.val_loss()\n",
    "conf_test_mse = fed.test_loss()\n",
    "conf_log = fed.GetLog()"
   ]
  },
  {
   "cell_type": "code",
   "execution_count": 14,
   "metadata": {},
   "outputs": [],
   "source": [
    "fedavg_val_mse = np.load('history/important baselines/fedavg_val_mse.npy')\n",
    "fedavg_test_mse = np.load('history/important baselines/fedavg_test_mse.npy')\n",
    "fedavg_log = np.load('history/important baselines/fedavg_log.npy')"
   ]
  },
  {
   "cell_type": "code",
   "execution_count": 15,
   "metadata": {},
   "outputs": [
    {
     "data": {
      "text/plain": [
       "<matplotlib.legend.Legend at 0x22f011e0580>"
      ]
     },
     "execution_count": 15,
     "metadata": {},
     "output_type": "execute_result"
    },
    {
     "data": {
      "image/png": "[encoded data removed]",
      "text/plain": [
       "<Figure size 432x288 with 1 Axes>"
      ]
     },
     "metadata": {
      "needs_background": "light"
     },
     "output_type": "display_data"
    }
   ],
   "source": [
    "plt.ylim(0, 3)\n",
    "plt.plot(conf_log, conf_test_mse, color = 'blue', label = 'conf_mse', marker = 'o')\n",
    "plt.plot(fedavg_log, fedavg_test_mse, color = 'deepskyblue', label = 'fedavg_mse', marker = 'o')\n",
    "#plt.plot(fedavg_log)\n",
    "plt.title(f'Test Loss')\n",
    "plt.ylabel('Error')\n",
    "plt.xlabel('Time (s)')\n",
    "plt.legend()\n"
   ]
  },
  {
   "cell_type": "code",
   "execution_count": 16,
   "metadata": {},
   "outputs": [
    {
     "name": "stdout",
     "output_type": "stream",
     "text": [
      "0.16457433998584747\n",
      "0.19175423681735992\n"
     ]
    }
   ],
   "source": [
    "print(conf_test_mse[-1])\n",
    "print(fedavg_test_mse[-1])"
   ]
  },
  {
   "cell_type": "code",
   "execution_count": null,
   "metadata": {},
   "outputs": [
    {
     "data": {
      "text/plain": [
       "<matplotlib.legend.Legend at 0x283ed3e0d00>"
      ]
     },
     "execution_count": 16,
     "metadata": {},
     "output_type": "execute_result"
    },
    {
     "data": {
      "image/png": "[encoded data removed]",
      "text/plain": [
       "<Figure size 432x288 with 1 Axes>"
      ]
     },
     "metadata": {
      "needs_background": "light"
     },
     "output_type": "display_data"
    }
   ],
   "source": [
    "\n",
    "plt.plot(fedavg_log, fedavg_mse, color = 'blue', label = 'mse', marker = 'o')\n",
    "#plt.plot(fedavg_log, fedavg_mae, color = 'green', label = 'mae', marker = 'o')\n",
    "plt.title(f'FedAvg Baseline Loss')\n",
    "plt.ylabel('Error')\n",
    "plt.xlabel('Time')\n",
    "plt.ylim(0, 3)\n",
    "plt.legend()"
   ]
  },
  {
   "cell_type": "code",
   "execution_count": 10,
   "metadata": {},
   "outputs": [
    {
     "data": {
      "text/plain": [
       "<matplotlib.legend.Legend at 0x19181232b90>"
      ]
     },
     "execution_count": 10,
     "metadata": {},
     "output_type": "execute_result"
    },
    {
     "data": {
      "image/png": "[encoded data removed]",
      "text/plain": [
       "<Figure size 432x288 with 1 Axes>"
      ]
     },
     "metadata": {
      "needs_background": "light"
     },
     "output_type": "display_data"
    }
   ],
   "source": [
    "plt.plot(fedavg_log, fedavg_mse, color = 'deepskyblue', label = 'fedavg_mse', marker = 'o')\n",
    "#plt.plot(fedavg_log, fedavg_mae, color = 'lime', label = 'fedavg_mae', marker = 'o')\n",
    "plt.plot(log, mse_losses, color = 'blue', label = 'conf_mse', marker = 'o')\n",
    "#plt.plot(log, mae_losses, color = 'green', label = 'conf_mae', marker = 'o')\n",
    "plt.ylabel('Error')\n",
    "plt.xlabel('Time (s)')\n",
    "plt.ylim(0, 3)\n",
    "plt.legend()"
   ]
  },
  {
   "cell_type": "code",
   "execution_count": 11,
   "metadata": {},
   "outputs": [
    {
     "data": {
      "text/plain": [
       "<matplotlib.legend.Legend at 0x191a1133670>"
      ]
     },
     "execution_count": 11,
     "metadata": {},
     "output_type": "execute_result"
    },
    {
     "data": {
      "image/png": "[encoded data removed]",
      "text/plain": [
       "<Figure size 432x288 with 1 Axes>"
      ]
     },
     "metadata": {
      "needs_background": "light"
     },
     "output_type": "display_data"
    }
   ],
   "source": [
    "plt.plot((fedavg_log[1:] / log[1:]) * np.array(fedavg_mse[1:]) / np.array(mse_losses[1:]), color = 'red', label = 'improvement', marker = 'o')\n",
    "plt.title('Improvement Over Baseline')\n",
    "plt.ylabel('Error Ratio')\n",
    "plt.xlabel('Round')\n",
    "plt.hlines(1, 0, 50, color = 'green')\n",
    "plt.grid()\n",
    "plt.legend()"
   ]
  },
  {
   "cell_type": "code",
   "execution_count": 8,
   "metadata": {},
   "outputs": [
    {
     "data": {
      "text/plain": [
       "332.9375305175781"
      ]
     },
     "execution_count": 8,
     "metadata": {},
     "output_type": "execute_result"
    }
   ],
   "source": [
    "mse_losses[1]"
   ]
  },
  {
   "cell_type": "code",
   "execution_count": 10,
   "metadata": {},
   "outputs": [],
   "source": [
    "model = fed.generate_model(w, b)"
   ]
  },
  {
   "cell_type": "code",
   "execution_count": 16,
   "metadata": {},
   "outputs": [
    {
     "name": "stdout",
     "output_type": "stream",
     "text": [
      "925/925 [==============================] - 1s 1ms/step\n"
     ]
    },
    {
     "data": {
      "text/plain": [
       "array([[30.938416 ],\n",
       "       [23.234049 ],\n",
       "       [26.268223 ],\n",
       "       ...,\n",
       "       [13.922438 ],\n",
       "       [ 7.4145555],\n",
       "       [ 7.3742194]], dtype=float32)"
      ]
     },
     "execution_count": 16,
     "metadata": {},
     "output_type": "execute_result"
    }
   ],
   "source": [
    "pred = model.predict(X)\n",
    "pred"
   ]
  },
  {
   "cell_type": "code",
   "execution_count": 30,
   "metadata": {},
   "outputs": [],
   "source": [
    "#np.sum(np.absolute(pred - y)) / len(y)\n",
    "pred = pred.reshape((pred.shape[0],))"
   ]
  },
  {
   "cell_type": "code",
   "execution_count": 36,
   "metadata": {},
   "outputs": [
    {
     "data": {
      "text/plain": [
       "0.6234069166018729"
      ]
     },
     "execution_count": 36,
     "metadata": {},
     "output_type": "execute_result"
    }
   ],
   "source": [
    "np.sum(np.absolute(pred - y) < 0.25) / len(y)"
   ]
  },
  {
   "cell_type": "code",
   "execution_count": 12,
   "metadata": {},
   "outputs": [
    {
     "data": {
      "text/plain": [
       "31.047"
      ]
     },
     "execution_count": 12,
     "metadata": {},
     "output_type": "execute_result"
    }
   ],
   "source": [
    "y[0]"
   ]
  },
  {
   "cell_type": "code",
   "execution_count": 13,
   "metadata": {},
   "outputs": [
    {
     "data": {
      "text/plain": [
       "23.051"
      ]
     },
     "execution_count": 13,
     "metadata": {},
     "output_type": "execute_result"
    }
   ],
   "source": [
    "y[1]"
   ]
  },
  {
   "cell_type": "code",
   "execution_count": 14,
   "metadata": {},
   "outputs": [
    {
     "data": {
      "text/plain": [
       "6.9716"
      ]
     },
     "execution_count": 14,
     "metadata": {},
     "output_type": "execute_result"
    }
   ],
   "source": [
    "y[-1]"
   ]
  },
  {
   "cell_type": "code",
   "execution_count": 15,
   "metadata": {},
   "outputs": [
    {
     "data": {
      "text/plain": [
       "7.2991"
      ]
     },
     "execution_count": 15,
     "metadata": {},
     "output_type": "execute_result"
    }
   ],
   "source": [
    "y[-2]"
   ]
  },
  {
   "cell_type": "code",
   "execution_count": 18,
   "metadata": {},
   "outputs": [
    {
     "data": {
      "text/plain": [
       "13.833"
      ]
     },
     "execution_count": 18,
     "metadata": {},
     "output_type": "execute_result"
    }
   ],
   "source": [
    "y[-3]"
   ]
  },
  {
   "cell_type": "code",
   "execution_count": null,
   "metadata": {},
   "outputs": [],
   "source": []
  }
 ],
 "metadata": {
  "kernelspec": {
   "display_name": "Python 3.10.4 64-bit",
   "language": "python",
   "name": "python3"
  },
  "language_info": {
   "codemirror_mode": {
    "name": "ipython",
    "version": 3
   },
   "file_extension": ".py",
   "mimetype": "text/x-python",
   "name": "python",
   "nbconvert_exporter": "python",
   "pygments_lexer": "ipython3",
   "version": "3.10.4"
  },
  "orig_nbformat": 4,
  "vscode": {
   "interpreter": {
    "hash": "6505aaf4080cc659ee1f55a9869a4b092f87f248477d8d111ec0e0efe1a23586"
   }
  }
 },
 "nbformat": 4,
 "nbformat_minor": 2
}
