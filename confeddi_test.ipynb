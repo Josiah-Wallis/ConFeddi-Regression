{
 "cells": [
  {
   "cell_type": "markdown",
   "metadata": {},
   "source": [
    "# Relevant Imports"
   ]
  },
  {
   "cell_type": "code",
   "execution_count": 1,
   "metadata": {},
   "outputs": [],
   "source": [
    "import numpy as np\n",
    "import pandas as pd\n",
    "import tensorflow as tf\n",
    "import matplotlib.pyplot as plt\n",
    "from sklearn.model_selection import train_test_split\n",
    "from sklearn.preprocessing import StandardScaler\n",
    "from confeddi import FederatedSystem\n",
    "from distribute_data import generate_data\n",
    "\n",
    "import random\n",
    "import os\n",
    "from tensorflow.random import set_seed"
   ]
  },
  {
   "cell_type": "markdown",
   "metadata": {},
   "source": [
    "# Preprocess Data"
   ]
  },
  {
   "cell_type": "markdown",
   "metadata": {},
   "source": [
    "### Load RTT Data"
   ]
  },
  {
   "cell_type": "code",
   "execution_count": 2,
   "metadata": {},
   "outputs": [
    {
     "name": "stdout",
     "output_type": "stream",
     "text": [
      "Number of samples: 29581\n",
      "Features per sample: 10\n",
      "\n",
      "Columns:\n",
      "%Timestamp[s], GroundTruthPositionX[m], GroundTruthPositionY[m], GroundTruthPositionZ[m], ML_range_estimate[m], AP_positionX[m], AP_positionY[m], AP_positionZ[m], AP_index, ToD_factor[m]"
     ]
    }
   ],
   "source": [
    "data = pd.read_csv('RTT_data.csv')\n",
    "\n",
    "# Getting rid of complex-valued columns\n",
    "data = data.select_dtypes(exclude = ['object'])\n",
    "\n",
    "# Quick look at data\n",
    "print(f'Number of samples: {data.shape[0]}')\n",
    "print(f'Features per sample: {data.shape[1] - 1}\\n')\n",
    "print(f'Columns:')\n",
    "for i in data.columns[:-1]:\n",
    "    if i == 'GroundTruthRange[m]':\n",
    "        continue\n",
    "    print(f'{i}, ', end = '')\n",
    "print(data.columns[-1], end = '')\n",
    "\n",
    "\n",
    "# Separate data and labels\n",
    "X = data.drop(columns = ['GroundTruthRange[m]']).to_numpy()\n",
    "y = data['GroundTruthRange[m]'].to_numpy()"
   ]
  },
  {
   "cell_type": "markdown",
   "metadata": {},
   "source": [
    "### Distribute data among clients"
   ]
  },
  {
   "cell_type": "code",
   "execution_count": 3,
   "metadata": {},
   "outputs": [],
   "source": [
    "seed = 11\n",
    "\n",
    "X_train, X_val, y_train, y_val = train_test_split(X, y, test_size = 0.25, random_state = seed)\n",
    "\n",
    "data = generate_data(X_train, y_train, seed = seed)\n",
    "scaler = StandardScaler()\n",
    "X_val = scaler.fit_transform(X_val)\n",
    "X = scaler.fit_transform(X)\n",
    "\n",
    "fed = FederatedSystem(data['Client Data'], data['Client Labels'], data['Client Distances'])\n",
    "fed.V = {'Val Data': X_val, 'Val Labels': y_val}\n",
    "fed.set_test_data({'Data': X, 'Labels': y})"
   ]
  },
  {
   "cell_type": "code",
   "execution_count": 4,
   "metadata": {},
   "outputs": [],
   "source": [
    "# usually test with .1 .1\n",
    "#fed.SetContextElements([0])\n",
    "#w, b = fed.ConFeddi(10, 10, rounds = 1)"
   ]
  },
  {
   "cell_type": "code",
   "execution_count": 6,
   "metadata": {},
   "outputs": [
    {
     "name": "stdout",
     "output_type": "stream",
     "text": [
      "Round 1\n",
      "[1 9 4 2]\n",
      "Round 2\n",
      "[2 1 9 4]\n",
      "Round 3\n",
      "[2 9]\n",
      "Round 4\n",
      "[2 9 8 7 6 5]\n",
      "Round 5\n",
      "[7 8 6 2 9 5 4 3 1]\n",
      "Round 6\n",
      "[7 2 8 6 9 5 1 4]\n",
      "Round 7\n",
      "[7]\n",
      "Round 8\n",
      "[7 9 8 6 5 4]\n",
      "Round 9\n",
      "[7 8 6 5]\n",
      "Round 10\n",
      "[8 7 6 5 9 4]\n",
      "Round 1\n",
      "[1 9 4 2]\n",
      "Round 2\n",
      "[2 1 9 4]\n",
      "Round 3\n",
      "[2 9]\n",
      "Round 4\n",
      "[2 9 8 7 6 5]\n",
      "Round 5\n",
      "[7 8 6 2 9 5 4 3 1]\n",
      "Round 6\n",
      "[7 2 8 6 9 5 1 4]\n",
      "Round 7\n",
      "[7]\n",
      "Round 8\n",
      "[7 9 8 6 5 4]\n",
      "Round 9\n",
      "[7 8 6 5]\n",
      "Round 10\n",
      "[8 7 6 5 9 4]\n",
      "Layer 0: 0\n",
      "Cumsum: 0.0\n",
      "Layer 1: 0\n",
      "Cumsum: 0.0\n",
      "Layer 2: 0\n",
      "Cumsum: 0.0\n",
      "\n",
      "Layer 0: 0\n",
      "Cumsum: 0.0\n",
      "Layer 1: 0\n",
      "Cumsum: 0.0\n",
      "Layer 2: 0\n",
      "Cumsum: 0.0\n",
      "\n",
      "Layer 0: 0\n",
      "Cumsum: 0.0\n",
      "Layer 1: 0\n",
      "Cumsum: 0.0\n",
      "Layer 2: 0\n",
      "Cumsum: 0.0\n",
      "\n"
     ]
    }
   ],
   "source": [
    "tf.keras.utils.set_random_seed(50)\n",
    "tf.config.experimental.enable_op_determinism()\n",
    "\n",
    "fed = FederatedSystem(data['Client Data'], data['Client Labels'], data['Client Distances'])\n",
    "fed.V = {'Val Data': X_val, 'Val Labels': y_val}\n",
    "fed.set_test_data({'Data': X, 'Labels': y})\n",
    "fed.SetContextElements([1, 2, 3])\n",
    "w1, m1 = fed.ConFeddi(10, 10, rounds = 10)\n",
    "\n",
    "fed = FederatedSystem(data['Client Data'], data['Client Labels'], data['Client Distances'])\n",
    "fed.V = {'Val Data': X_val, 'Val Labels': y_val}\n",
    "fed.set_test_data({'Data': X, 'Labels': y})\n",
    "fed.SetContextElements([1, 2, 3])\n",
    "w2, m2 = fed.ConFeddi(10, 10, rounds = 10)\n",
    "\n",
    "\n",
    "total = 0\n",
    "for i, j in zip(w1, w2):\n",
    "    for idx in range(3):\n",
    "        print(f'Layer {idx}: ', end = '')\n",
    "        print(np.sum(i[idx] != j[idx]))\n",
    "        total += np.absolute(np.sum(i[idx] - j[idx]))\n",
    "        print(f'Cumsum: {total}')\n",
    "    print()\n",
    "\n"
   ]
  },
  {
   "cell_type": "code",
   "execution_count": 31,
   "metadata": {},
   "outputs": [
    {
     "name": "stdout",
     "output_type": "stream",
     "text": [
      "11\n",
      "19\n",
      "1\n"
     ]
    }
   ],
   "source": [
    "session_conf = tf.compat.v1.ConfigProto(intra_op_parallelism_threads = 1, inter_op_parallelism_threads = 1)\n",
    "sess = tf.compat.v1.Session(graph=tf.compat.v1.get_default_graph())\n",
    "set_session(sess)\n",
    "set_seed(50)\n",
    "tf.compat.v1.set_random_seed(50)\n",
    "np.random.seed(50)\n",
    "os.environ['PYTHONHASHSEED'] = '50'\n",
    "\n",
    "X = data['Client Data'][6]\n",
    "y = data['Client Labels'][6]\n",
    "w, b = fed.initialize_weights()\n",
    "\n",
    "session_conf = tf.compat.v1.ConfigProto(intra_op_parallelism_threads = 1, inter_op_parallelism_threads = 1)\n",
    "sess = tf.compat.v1.Session(graph=tf.compat.v1.get_default_graph())\n",
    "set_session(sess)\n",
    "set_seed(50)\n",
    "tf.compat.v1.set_random_seed(50)\n",
    "np.random.seed(50)\n",
    "os.environ['PYTHONHASHSEED'] = '50'\n",
    "\n",
    "w1, b1, model, history = fed.ClientUpdate(X, y, w, b, 5)\n",
    "w2, b2, model, history = fed.ClientUpdate(X, y, w, b, 5)\n",
    "\n",
    "for i, j in zip(w1, w2):\n",
    "    print(np.sum(i != j))"
   ]
  },
  {
   "cell_type": "code",
   "execution_count": 38,
   "metadata": {},
   "outputs": [
    {
     "name": "stdout",
     "output_type": "stream",
     "text": [
      "Epoch 1/5\n",
      "1/1 [==============================] - 0s 328ms/step - loss: 0.6955 - mse: 0.3109\n",
      "Epoch 2/5\n",
      "1/1 [==============================] - 0s 9ms/step - loss: 0.6731 - mse: 0.2997\n",
      "Epoch 3/5\n",
      "1/1 [==============================] - 0s 10ms/step - loss: 0.4672 - mse: 0.2078\n",
      "Epoch 4/5\n",
      "1/1 [==============================] - 0s 35ms/step - loss: 0.1316 - mse: 0.1211\n",
      "Epoch 5/5\n",
      "1/1 [==============================] - 0s 15ms/step - loss: -0.3104 - mse: 0.0941\n",
      "1/1 [==============================] - 0s 47ms/step\n",
      "[[9.9467409e-01]\n",
      " [9.5628178e-01]\n",
      " [9.9657851e-01]\n",
      " [9.6684474e-01]\n",
      " [3.7888515e-09]\n",
      " [8.9169466e-01]\n",
      " [9.3267453e-01]\n",
      " [8.3166295e-01]\n",
      " [9.8976678e-01]\n",
      " [2.6092320e-13]]\n"
     ]
    }
   ],
   "source": [
    "import tensorflow as tf\n",
    "from tensorflow.keras.models import Sequential\n",
    "from tensorflow.keras.layers import Dense\n",
    "import numpy as np\n",
    "import pandas as pd\n",
    "from sklearn.metrics import confusion_matrix\n",
    "from sklearn.model_selection import train_test_split\n",
    "from sklearn.preprocessing import MinMaxScaler\n",
    "\n",
    "## GLOBAL SEED ##                                                   \n",
    "tf.random.set_seed(3)\n",
    "x_train = tf.random.normal((10,1), 1, 1, dtype=tf.float32)\n",
    "y_train = tf.math.sin(x_train)\n",
    "x_test = tf.random.normal((10,1), 2, 3, dtype=tf.float32)\n",
    "y_test = tf.math.sin(x_test)\n",
    "\n",
    "model = Sequential()\n",
    "model.add(Dense(1200, input_shape=(1,), activation='relu'))  \n",
    "model.add(Dense(150, activation='relu'))\n",
    "model.add(Dense(80, activation='relu'))\n",
    "model.add(Dense(10, activation='relu'))\n",
    "model.add(Dense(1, activation='sigmoid')) \n",
    "\n",
    "loss=\"binary_crossentropy\"\n",
    "optimizer=tf.keras.optimizers.Adam(lr=0.01)\n",
    "metrics=['mse']\n",
    "epochs = 5\n",
    "batch_size = 32\n",
    "verbose = 1\n",
    "\n",
    "model.compile(loss=loss,  \n",
    "              optimizer=optimizer, \n",
    "              metrics=metrics) \n",
    "histpry = model.fit(x_train, y_train, epochs = epochs, batch_size=batch_size, verbose = verbose)\n",
    "predictions = model.predict(x_test)\n",
    "print(predictions)"
   ]
  },
  {
   "cell_type": "code",
   "execution_count": null,
   "metadata": {},
   "outputs": [],
   "source": [
    "w1, b1, model1, history = fed.ClientUpdate(data['Client Data'][4], data['Client Labels'][4], w, b, 5)"
   ]
  },
  {
   "cell_type": "code",
   "execution_count": null,
   "metadata": {},
   "outputs": [],
   "source": [
    "w2, b2, model2, history = fed.ClientUpdate(data['Client Data'][4], data['Client Labels'][4], w, b, 5)"
   ]
  },
  {
   "cell_type": "code",
   "execution_count": null,
   "metadata": {},
   "outputs": [
    {
     "name": "stdout",
     "output_type": "stream",
     "text": [
      "320\n",
      "512\n",
      "16\n"
     ]
    }
   ],
   "source": [
    "for i, j in zip(w1, w2):\n",
    "    print(np.sum(i != j))"
   ]
  },
  {
   "cell_type": "code",
   "execution_count": null,
   "metadata": {},
   "outputs": [
    {
     "data": {
      "text/plain": [
       "103"
      ]
     },
     "execution_count": 14,
     "metadata": {},
     "output_type": "execute_result"
    }
   ],
   "source": [
    "np.sum(model1.get_weights()[0] != model2.get_weights()[0])"
   ]
  },
  {
   "cell_type": "code",
   "execution_count": null,
   "metadata": {},
   "outputs": [
    {
     "data": {
      "text/plain": [
       "0"
      ]
     },
     "execution_count": 15,
     "metadata": {},
     "output_type": "execute_result"
    }
   ],
   "source": [
    "m1, m2 = fed.generate_model(w, b), fed.generate_model(w, b)\n",
    "np.sum(m1.get_weights()[0] != m2.get_weights()[0])"
   ]
  },
  {
   "cell_type": "code",
   "execution_count": 16,
   "metadata": {},
   "outputs": [
    {
     "data": {
      "text/plain": [
       "[0, 1, 2]"
      ]
     },
     "execution_count": 16,
     "metadata": {},
     "output_type": "execute_result"
    }
   ],
   "source": [
    "fed.trainable_layers"
   ]
  },
  {
   "cell_type": "code",
   "execution_count": 60,
   "metadata": {},
   "outputs": [],
   "source": [
    "mse_losses, mae_losses = fed.test_acc()"
   ]
  },
  {
   "cell_type": "code",
   "execution_count": 61,
   "metadata": {},
   "outputs": [
    {
     "data": {
      "text/plain": [
       "[<matplotlib.lines.Line2D at 0x155d7094e50>]"
      ]
     },
     "execution_count": 61,
     "metadata": {},
     "output_type": "execute_result"
    },
    {
     "data": {
      "image/png": "[encoded data removed]",
      "text/plain": [
       "<Figure size 432x288 with 1 Axes>"
      ]
     },
     "metadata": {
      "needs_background": "light"
     },
     "output_type": "display_data"
    }
   ],
   "source": [
    "x = range(41)\n",
    "plt.ylim(0, 1)\n",
    "plt.plot(x, mse_losses, color = 'blue', marker = 'o')\n",
    "plt.plot(x, mae_losses, color = 'green', marker = 'o')"
   ]
  },
  {
   "cell_type": "code",
   "execution_count": 27,
   "metadata": {},
   "outputs": [],
   "source": [
    "model = fed.generate_model(w, b)"
   ]
  },
  {
   "cell_type": "code",
   "execution_count": 28,
   "metadata": {},
   "outputs": [
    {
     "name": "stdout",
     "output_type": "stream",
     "text": [
      "925/925 [==============================] - 1s 949us/step\n"
     ]
    },
    {
     "data": {
      "text/plain": [
       "array([[30.452354 ],\n",
       "       [23.151384 ],\n",
       "       [25.679396 ],\n",
       "       ...,\n",
       "       [13.964169 ],\n",
       "       [ 6.8701057],\n",
       "       [ 7.191533 ]], dtype=float32)"
      ]
     },
     "execution_count": 28,
     "metadata": {},
     "output_type": "execute_result"
    }
   ],
   "source": [
    "model.predict(X)"
   ]
  },
  {
   "cell_type": "code",
   "execution_count": 29,
   "metadata": {},
   "outputs": [
    {
     "data": {
      "text/plain": [
       "31.047"
      ]
     },
     "execution_count": 29,
     "metadata": {},
     "output_type": "execute_result"
    }
   ],
   "source": [
    "y[0]"
   ]
  },
  {
   "cell_type": "code",
   "execution_count": 30,
   "metadata": {},
   "outputs": [
    {
     "data": {
      "text/plain": [
       "23.051"
      ]
     },
     "execution_count": 30,
     "metadata": {},
     "output_type": "execute_result"
    }
   ],
   "source": [
    "y[1]"
   ]
  },
  {
   "cell_type": "code",
   "execution_count": 31,
   "metadata": {},
   "outputs": [
    {
     "data": {
      "text/plain": [
       "6.9716"
      ]
     },
     "execution_count": 31,
     "metadata": {},
     "output_type": "execute_result"
    }
   ],
   "source": [
    "y[-1]"
   ]
  },
  {
   "cell_type": "code",
   "execution_count": 32,
   "metadata": {},
   "outputs": [
    {
     "data": {
      "text/plain": [
       "7.2991"
      ]
     },
     "execution_count": 32,
     "metadata": {},
     "output_type": "execute_result"
    }
   ],
   "source": [
    "y[-2]"
   ]
  },
  {
   "cell_type": "code",
   "execution_count": 33,
   "metadata": {},
   "outputs": [
    {
     "data": {
      "text/plain": [
       "13.833"
      ]
     },
     "execution_count": 33,
     "metadata": {},
     "output_type": "execute_result"
    }
   ],
   "source": [
    "y[-3]"
   ]
  }
 ],
 "metadata": {
  "kernelspec": {
   "display_name": "Python 3.10.4 64-bit",
   "language": "python",
   "name": "python3"
  },
  "language_info": {
   "codemirror_mode": {
    "name": "ipython",
    "version": 3
   },
   "file_extension": ".py",
   "mimetype": "text/x-python",
   "name": "python",
   "nbconvert_exporter": "python",
   "pygments_lexer": "ipython3",
   "version": "3.10.4"
  },
  "orig_nbformat": 4,
  "vscode": {
   "interpreter": {
    "hash": "6505aaf4080cc659ee1f55a9869a4b092f87f248477d8d111ec0e0efe1a23586"
   }
  }
 },
 "nbformat": 4,
 "nbformat_minor": 2
}
