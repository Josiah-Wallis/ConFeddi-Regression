{
 "cells": [
  {
   "cell_type": "code",
   "execution_count": 5,
   "metadata": {},
   "outputs": [],
   "source": [
    "import math\n",
    "import os\n",
    "import numpy as np\n",
    "import pandas as pd\n",
    "import tensorflow as tf\n",
    "import matplotlib.pyplot as plt\n",
    "from sklearn.model_selection import train_test_split\n",
    "from sklearn.preprocessing import StandardScaler\n",
    "from confeddi import FederatedSystem\n",
    "from distribute_data import generate_data\n",
    "os.environ['CUDA_VISIBLE_DEVICES'] = '-1'\n",
    "os.environ['PYTHONHASHSEED'] = str(50)\n",
    "\n",
    "from collections import defaultdict\n",
    "from tensorflow import keras\n",
    "from tensorflow.keras import layers\n",
    "from tensorflow.keras import Sequential\n",
    "from tensorflow.keras.optimizers import Adam\n"
   ]
  },
  {
   "cell_type": "code",
   "execution_count": 6,
   "metadata": {},
   "outputs": [
    {
     "name": "stdout",
     "output_type": "stream",
     "text": [
      "Number of samples: 29581\n",
      "Features per sample: 10\n",
      "\n",
      "Columns:\n",
      "%Timestamp[s], GroundTruthPositionX[m], GroundTruthPositionY[m], GroundTruthPositionZ[m], ML_range_estimate[m], AP_positionX[m], AP_positionY[m], AP_positionZ[m], AP_index, ToD_factor[m]\n",
      "\n"
     ]
    }
   ],
   "source": [
    "data = pd.read_csv('RTT_data.csv')\n",
    "\n",
    "# Getting rid of complex-valued columns\n",
    "data = data.select_dtypes(exclude = ['object'])\n",
    "\n",
    "# Separate data and labels\n",
    "drop_labels = ['GroundTruthRange[m]']\n",
    "X = data.drop(columns = drop_labels)\n",
    "y = data['GroundTruthRange[m]']\n",
    "\n",
    "# Quick Data Stats\n",
    "print(f'Number of samples: {data.shape[0]}')\n",
    "features = data.shape[1] - len(drop_labels)\n",
    "print(f'Features per sample: {features}\\n')\n",
    "\n",
    "print(f'Columns:')\n",
    "for i in data.columns[:-1]:\n",
    "    if i in drop_labels:\n",
    "        continue\n",
    "    print(f'{i}, ', end = '')\n",
    "print(data.columns[-1], end = '\\n\\n')\n"
   ]
  },
  {
   "cell_type": "code",
   "execution_count": 7,
   "metadata": {},
   "outputs": [],
   "source": [
    "seed = 11\n",
    "clients = {'Client Data': [], 'Client Labels': [], 'Client Distances': []}\n",
    "X_val = []\n",
    "Y_val = []\n",
    "X_test = []\n",
    "Y_test = []\n",
    "total = 0\n",
    "for i in range(1, 13):\n",
    "    condition = (X['AP_index'] == i)\n",
    "    curr_data = X[condition].to_numpy()\n",
    "    curr_labs = y[condition].to_numpy()\n",
    "    \n",
    "    x_split, x_val, y_split, y_val = train_test_split(curr_data, curr_labs, test_size = 0.2, random_state = seed)\n",
    "    x_train, x_test, y_train, y_test = train_test_split(x_split, y_split, test_size = 0.25, random_state = seed)\n",
    "    clients['Client Data'].append(x_train)\n",
    "    clients['Client Labels'].append(y_train)\n",
    "    X_val.append(x_val)\n",
    "    Y_val.append(y_val)\n",
    "    X_test.append(x_test)\n",
    "    Y_test.append(y_test)\n"
   ]
  },
  {
   "cell_type": "code",
   "execution_count": 8,
   "metadata": {},
   "outputs": [],
   "source": [
    "xval_tot = 0\n",
    "xtest_tot = 0\n",
    "for i in range(12):\n",
    "    xval_tot += len(X_val[i])\n",
    "    xtest_tot += len(X_test[i])\n",
    "\n",
    "# before, 2nd arg was features instead of 5\n",
    "X_val_data = np.zeros((xval_tot, features))\n",
    "y_val_labels = np.zeros(xval_tot)\n",
    "X_test_data = np.zeros((xtest_tot, features))\n",
    "y_test_labels = np.zeros(xtest_tot)\n",
    "idx_val = 0\n",
    "idx_test = 0\n",
    "for client_val, client_test in zip(zip(X_val, Y_val), zip(X_test, Y_test)):\n",
    "    for i, j in zip(client_val[0], client_val[1]):\n",
    "        #X_val_data[idx_val] = np.delete(i, [0, 5, 6, 7, 8])\n",
    "        X_val_data[idx_val] = i\n",
    "        y_val_labels[idx_val] = j\n",
    "        idx_val += 1\n",
    "    for i, j in zip(client_test[0], client_test[1]):\n",
    "        #X_test_data[idx_test] = np.delete(i, [0, 5, 6, 7, 8])\n",
    "        X_test_data[idx_test] = i\n",
    "        y_test_labels[idx_test] = j\n",
    "        idx_test += 1\n"
   ]
  },
  {
   "cell_type": "code",
   "execution_count": 9,
   "metadata": {},
   "outputs": [
    {
     "data": {
      "text/plain": [
       "\"\\nscaler = StandardScaler()\\nfor i in range(len(clients['Client Data'])):\\n    clients['Client Data'][i] = scaler.fit_transform(np.delete(clients['Client Data'][i], [0, 5, 6, 7, 8], 1))\\n\\nX_val_data = scaler.fit_transform(X_val_data)\\nX_test_data = scaler.fit_transform(X_test_data)\\n\""
      ]
     },
     "execution_count": 9,
     "metadata": {},
     "output_type": "execute_result"
    }
   ],
   "source": [
    "'''\n",
    "scaler = StandardScaler()\n",
    "for i in range(len(clients['Client Data'])):\n",
    "    clients['Client Data'][i] = scaler.fit_transform(np.delete(clients['Client Data'][i], [0, 5, 6, 7, 8], 1))\n",
    "\n",
    "X_val_data = scaler.fit_transform(X_val_data)\n",
    "X_test_data = scaler.fit_transform(X_test_data)\n",
    "'''"
   ]
  },
  {
   "cell_type": "code",
   "execution_count": 19,
   "metadata": {},
   "outputs": [
    {
     "name": "stdout",
     "output_type": "stream",
     "text": [
      "Client 0\n",
      "Average Error: 1.7145915978257553\n",
      "Client 1\n",
      "Average Error: 1.3795484950051913\n",
      "Client 2\n",
      "Average Error: 1.9103776499430336\n",
      "Client 3\n",
      "Average Error: 3.8179725723898\n",
      "Client 4\n",
      "Average Error: 3.7418863666917423\n",
      "Client 5\n",
      "Average Error: 2.3994828780070674\n",
      "Client 6\n",
      "Average Error: 1.822820002245916\n",
      "Client 7\n",
      "Average Error: 1.3948940674994332\n",
      "Client 8\n",
      "Average Error: 1.8034423221782103\n",
      "Client 9\n",
      "Average Error: 5.396556434851381\n",
      "Client 10\n",
      "Average Error: 4.851035280628205\n",
      "Client 11\n",
      "Average Error: 10.472738855189732\n"
     ]
    }
   ],
   "source": [
    "tf.keras.utils.set_random_seed(50)\n",
    "tf.config.experimental.enable_op_determinism()\n",
    "\n",
    "for client in range(12):\n",
    "    model = Sequential([\n",
    "        #16\n",
    "        layers.Dense(16, activation = 'relu', input_shape = (10,)),\n",
    "        #layers.Normalization(),\n",
    "        #layers.BatchNormalization(),\n",
    "        #8\n",
    "        layers.Dense(8, activation = 'relu'),\n",
    "        layers.LayerNormalization(),\n",
    "        #4\n",
    "        #layers.Dense(8, activation = 'relu'),\n",
    "        layers.Dense(1)\n",
    "    ])\n",
    "    #16 8 8 1\n",
    "    #client = 11\n",
    "\n",
    "    print(f'Client {client}')\n",
    "    samples = int(len(clients['Client Labels'][client]) * 0.8)\n",
    "    X = clients['Client Data'][client][:samples]\n",
    "    y = clients['Client Labels'][client][:samples]\n",
    "    xtest = clients['Client Data'][client][samples:]\n",
    "    ytest = clients['Client Labels'][client][samples:]\n",
    "    model.compile(optimizer = Adam(learning_rate = 0.005), loss = 'mse')\n",
    "    history = model.fit(X, y, validation_split = 0.2, epochs = 20, verbose = 0, shuffle = False, use_multiprocessing = True)\n",
    "    pred = model.predict(xtest, verbose = 0)\n",
    "    diff = np.absolute(pred.reshape(len(ytest),) - ytest)\n",
    "    print(f'Average Error: {np.sum(diff) / len(ytest)}')\n",
    "    #model.evaluate(xtest, ytest)"
   ]
  },
  {
   "cell_type": "code",
   "execution_count": 20,
   "metadata": {},
   "outputs": [
    {
     "data": {
      "text/plain": [
       "0.5485714285714286"
      ]
     },
     "execution_count": 20,
     "metadata": {},
     "output_type": "execute_result"
    }
   ],
   "source": [
    "np.sum(diff < 10) / len(diff)"
   ]
  },
  {
   "cell_type": "code",
   "execution_count": 21,
   "metadata": {},
   "outputs": [
    {
     "ename": "NameError",
     "evalue": "name 'log' is not defined",
     "output_type": "error",
     "traceback": [
      "\u001b[1;31m---------------------------------------------------------------------------\u001b[0m",
      "\u001b[1;31mNameError\u001b[0m                                 Traceback (most recent call last)",
      "\u001b[1;32mc:\\Users\\17144\\Desktop\\Drive stuff\\CS research\\Federated Learning Research\\ConFeddi-Regression\\clientside_test.ipynb Cell 8\u001b[0m in \u001b[0;36m<cell line: 1>\u001b[1;34m()\u001b[0m\n\u001b[1;32m----> <a href='vscode-notebook-cell:/c%3A/Users/17144/Desktop/Drive%20stuff/CS%20research/Federated%20Learning%20Research/ConFeddi-Regression/clientside_test.ipynb#X10sZmlsZQ%3D%3D?line=0'>1</a>\u001b[0m plt\u001b[39m.\u001b[39mplot(log, mse, color \u001b[39m=\u001b[39m \u001b[39m'\u001b[39m\u001b[39mblue\u001b[39m\u001b[39m'\u001b[39m, label \u001b[39m=\u001b[39m \u001b[39m'\u001b[39m\u001b[39mconf_mse\u001b[39m\u001b[39m'\u001b[39m, marker \u001b[39m=\u001b[39m \u001b[39m'\u001b[39m\u001b[39mo\u001b[39m\u001b[39m'\u001b[39m)\n\u001b[0;32m      <a href='vscode-notebook-cell:/c%3A/Users/17144/Desktop/Drive%20stuff/CS%20research/Federated%20Learning%20Research/ConFeddi-Regression/clientside_test.ipynb#X10sZmlsZQ%3D%3D?line=1'>2</a>\u001b[0m \u001b[39m#plt.plot(fedavg_log, fedavg_mse, color = 'green', label = 'fedavg_mse', marker = 'o')\u001b[39;00m\n\u001b[0;32m      <a href='vscode-notebook-cell:/c%3A/Users/17144/Desktop/Drive%20stuff/CS%20research/Federated%20Learning%20Research/ConFeddi-Regression/clientside_test.ipynb#X10sZmlsZQ%3D%3D?line=2'>3</a>\u001b[0m plt\u001b[39m.\u001b[39mtitle(\u001b[39m'\u001b[39m\u001b[39mError\u001b[39m\u001b[39m'\u001b[39m)\n",
      "\u001b[1;31mNameError\u001b[0m: name 'log' is not defined"
     ]
    }
   ],
   "source": [
    "plt.plot(log, mse, color = 'blue', label = 'conf_mse', marker = 'o')\n",
    "#plt.plot(fedavg_log, fedavg_mse, color = 'green', label = 'fedavg_mse', marker = 'o')\n",
    "plt.title('Error')\n",
    "#plt.ylim(10, 35)\n",
    "plt.ylabel('Error')\n",
    "plt.xlabel('Time (s)')\n",
    "plt.grid()\n",
    "plt.legend()\n",
    "\n",
    "print(mse[-1])\n",
    "fed.clear_history()"
   ]
  },
  {
   "cell_type": "code",
   "execution_count": null,
   "metadata": {},
   "outputs": [],
   "source": [
    "model = fed.generate_model(w, b)"
   ]
  },
  {
   "cell_type": "code",
   "execution_count": null,
   "metadata": {},
   "outputs": [
    {
     "name": "stdout",
     "output_type": "stream",
     "text": [
      "185/185 [==============================] - 0s 511us/step\n"
     ]
    }
   ],
   "source": [
    "pred = model.predict(X_test_data)"
   ]
  },
  {
   "cell_type": "code",
   "execution_count": null,
   "metadata": {},
   "outputs": [
    {
     "data": {
      "text/plain": [
       "array([23.049 ,  7.4971, 14.987 , ...,  1.9869,  5.2789,  1.7645])"
      ]
     },
     "execution_count": 47,
     "metadata": {},
     "output_type": "execute_result"
    }
   ],
   "source": [
    "y_test_labels"
   ]
  },
  {
   "cell_type": "code",
   "execution_count": null,
   "metadata": {},
   "outputs": [
    {
     "data": {
      "text/plain": [
       "array([ 1.0488e+03, -1.8610e+01,  2.3301e-01,  4.4900e+01,  3.6373e+01,\n",
       "       -1.1004e+01,  2.1952e+01,  4.6200e+01,  1.0000e+00,  1.7460e+01])"
      ]
     },
     "execution_count": 48,
     "metadata": {},
     "output_type": "execute_result"
    }
   ],
   "source": [
    "X_test_data[0]"
   ]
  },
  {
   "cell_type": "code",
   "execution_count": null,
   "metadata": {},
   "outputs": [
    {
     "data": {
      "text/plain": [
       "23.049"
      ]
     },
     "execution_count": 50,
     "metadata": {},
     "output_type": "execute_result"
    }
   ],
   "source": [
    "y_test_labels[0]"
   ]
  },
  {
   "cell_type": "code",
   "execution_count": null,
   "metadata": {},
   "outputs": [
    {
     "data": {
      "text/plain": [
       "array([-92.58483], dtype=float32)"
      ]
     },
     "execution_count": 52,
     "metadata": {},
     "output_type": "execute_result"
    }
   ],
   "source": [
    "pred[0]"
   ]
  },
  {
   "cell_type": "code",
   "execution_count": null,
   "metadata": {},
   "outputs": [],
   "source": []
  }
 ],
 "metadata": {
  "kernelspec": {
   "display_name": "Python 3.10.6 64-bit",
   "language": "python",
   "name": "python3"
  },
  "language_info": {
   "codemirror_mode": {
    "name": "ipython",
    "version": 3
   },
   "file_extension": ".py",
   "mimetype": "text/x-python",
   "name": "python",
   "nbconvert_exporter": "python",
   "pygments_lexer": "ipython3",
   "version": "3.10.6"
  },
  "orig_nbformat": 4,
  "vscode": {
   "interpreter": {
    "hash": "ba14182f2addf8401c8bd3cfab2a612ede3e43383081db6c97cf7288d8247d9f"
   }
  }
 },
 "nbformat": 4,
 "nbformat_minor": 2
}
